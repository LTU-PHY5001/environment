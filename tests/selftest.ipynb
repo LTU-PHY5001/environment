{
 "cells": [
  {
   "cell_type": "markdown",
   "id": "9a46cf2f",
   "metadata": {},
   "source": [
    "# MQIT Environment Self-Test\n",
    "This notebook verifies core runtime components: Python, NumPy, and QDK (`qsharp`)."
   ]
  },
  {
   "cell_type": "code",
   "execution_count": null,
   "id": "d23ded13",
   "metadata": {},
   "outputs": [],
   "source": [
    "import sys, platform, os\n",
    "print(\"Python:\", sys.version)\n",
    "print(\"Platform:\", platform.platform())\n",
    "print(\"Executable:\", sys.executable)\n",
    "print(\"PATH length:\", len(os.environ.get(\"PATH\",\"\")))\n"
   ]
  },
  {
   "cell_type": "code",
   "execution_count": null,
   "id": "6587f6b9",
   "metadata": {},
   "outputs": [],
   "source": [
    "# NumPy import and minimal BLAS usage\n",
    "import numpy as np\n",
    "a = np.arange(9).reshape(3,3)\n",
    "b = a @ a.T\n",
    "print(\"NumPy OK:\", np.__version__)\n",
    "print(\"a @ a.T =\\n\", b)\n",
    "# Show configuration (BLAS/OpenMP info)\n",
    "np.show_config()\n"
   ]
  },
  {
   "cell_type": "code",
   "execution_count": null,
   "id": "bb251586",
   "metadata": {},
   "outputs": [],
   "source": [
    "# QDK / qsharp smoke test (import only; optional kernel not started)\n",
    "try:\n",
    "    import qsharp\n",
    "    print(\"qsharp OK:\", getattr(qsharp, \"__version__\", \"unknown\"))\n",
    "    QSHARP_OK = True\n",
    "except Exception as e:\n",
    "    print(\"qsharp import FAILED:\", repr(e))\n",
    "    QSHARP_OK = False\n",
    "assert QSHARP_OK, \"qsharp failed to import—see message above.\"\n"
   ]
  }
 ],
 "metadata": {},
 "nbformat": 4,
 "nbformat_minor": 5
}
